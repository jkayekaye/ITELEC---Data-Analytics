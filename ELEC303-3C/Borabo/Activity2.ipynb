{
 "cells": [
  {
   "cell_type": "markdown",
   "id": "7afee371-4ffb-40ee-b2dd-ee4620cb9140",
   "metadata": {},
   "source": [
    "<h1>UK Accident Datasets</h1>\n",
    "<h2>Analyst: Janelle Kaye Borabo</h2>\n",
    "<hr>"
   ]
  },
  {
   "cell_type": "code",
   "execution_count": 42,
   "id": "b74e9bca-c5e2-42d3-af0d-ba89b230ddff",
   "metadata": {},
   "outputs": [],
   "source": [
    "import numpy as np\n",
    "import pandas as pd\n",
    "import warnings\n",
    "warnings.filterwarnings('ignore')"
   ]
  },
  {
   "cell_type": "code",
   "execution_count": 43,
   "id": "e54f3d83-cdc8-4f3e-8ae3-cdf5f680d69d",
   "metadata": {},
   "outputs": [],
   "source": [
    "uk_accdt= pd.read_csv('datasets\\\\uk_accident_data.csv')"
   ]
  },
  {
   "cell_type": "code",
   "execution_count": 87,
   "id": "4e3f39b3-20c8-4755-b586-a97dc27d83ed",
   "metadata": {},
   "outputs": [
    {
     "data": {
      "text/html": [
       "<div>\n",
       "<style scoped>\n",
       "    .dataframe tbody tr th:only-of-type {\n",
       "        vertical-align: middle;\n",
       "    }\n",
       "\n",
       "    .dataframe tbody tr th {\n",
       "        vertical-align: top;\n",
       "    }\n",
       "\n",
       "    .dataframe thead th {\n",
       "        text-align: right;\n",
       "    }\n",
       "</style>\n",
       "<table border=\"1\" class=\"dataframe\">\n",
       "  <thead>\n",
       "    <tr style=\"text-align: right;\">\n",
       "      <th></th>\n",
       "      <th>Index</th>\n",
       "      <th>Accident_Severity</th>\n",
       "      <th>Accident Date</th>\n",
       "      <th>Latitude</th>\n",
       "      <th>Light_Conditions</th>\n",
       "      <th>District Area</th>\n",
       "      <th>Longitude</th>\n",
       "      <th>Number_of_Casualties</th>\n",
       "      <th>Number_of_Vehicles</th>\n",
       "      <th>Road_Surface_Conditions</th>\n",
       "      <th>Road_Type</th>\n",
       "      <th>Urban_or_Rural_Area</th>\n",
       "      <th>Weather_Conditions</th>\n",
       "      <th>Vehicle_Type</th>\n",
       "    </tr>\n",
       "  </thead>\n",
       "  <tbody>\n",
       "    <tr>\n",
       "      <th>0</th>\n",
       "      <td>200701BS64157</td>\n",
       "      <td>Serious</td>\n",
       "      <td>05/06/2019</td>\n",
       "      <td>51.506187</td>\n",
       "      <td>Darkness - lights lit</td>\n",
       "      <td>Kensington and Chelsea</td>\n",
       "      <td>-0.209082</td>\n",
       "      <td>1</td>\n",
       "      <td>2</td>\n",
       "      <td>Dry</td>\n",
       "      <td>Single carriageway</td>\n",
       "      <td>Urban</td>\n",
       "      <td>Fine no high winds</td>\n",
       "      <td>Car</td>\n",
       "    </tr>\n",
       "    <tr>\n",
       "      <th>1</th>\n",
       "      <td>200701BS65737</td>\n",
       "      <td>Serious</td>\n",
       "      <td>02/07/2019</td>\n",
       "      <td>51.495029</td>\n",
       "      <td>Daylight</td>\n",
       "      <td>Kensington and Chelsea</td>\n",
       "      <td>-0.173647</td>\n",
       "      <td>1</td>\n",
       "      <td>2</td>\n",
       "      <td>Wet or damp</td>\n",
       "      <td>Single carriageway</td>\n",
       "      <td>Urban</td>\n",
       "      <td>Raining no high winds</td>\n",
       "      <td>Car</td>\n",
       "    </tr>\n",
       "    <tr>\n",
       "      <th>2</th>\n",
       "      <td>200701BS66127</td>\n",
       "      <td>Serious</td>\n",
       "      <td>26/08/2019</td>\n",
       "      <td>51.517715</td>\n",
       "      <td>Darkness - lighting unknown</td>\n",
       "      <td>Kensington and Chelsea</td>\n",
       "      <td>-0.210215</td>\n",
       "      <td>1</td>\n",
       "      <td>3</td>\n",
       "      <td>Dry</td>\n",
       "      <td>Single carriageway</td>\n",
       "      <td>Urban</td>\n",
       "      <td>Fine no high winds</td>\n",
       "      <td>Taxi/Private hire car</td>\n",
       "    </tr>\n",
       "    <tr>\n",
       "      <th>3</th>\n",
       "      <td>200701BS66128</td>\n",
       "      <td>Serious</td>\n",
       "      <td>16/08/2019</td>\n",
       "      <td>51.495478</td>\n",
       "      <td>Daylight</td>\n",
       "      <td>Kensington and Chelsea</td>\n",
       "      <td>-0.202731</td>\n",
       "      <td>1</td>\n",
       "      <td>4</td>\n",
       "      <td>Dry</td>\n",
       "      <td>Single carriageway</td>\n",
       "      <td>Urban</td>\n",
       "      <td>Fine no high winds</td>\n",
       "      <td>Bus or coach (17 or more pass seats)</td>\n",
       "    </tr>\n",
       "    <tr>\n",
       "      <th>4</th>\n",
       "      <td>200701BS66837</td>\n",
       "      <td>Slight</td>\n",
       "      <td>03/09/2019</td>\n",
       "      <td>51.488576</td>\n",
       "      <td>Darkness - lights lit</td>\n",
       "      <td>Kensington and Chelsea</td>\n",
       "      <td>-0.192487</td>\n",
       "      <td>1</td>\n",
       "      <td>2</td>\n",
       "      <td>Dry</td>\n",
       "      <td>Single carriageway</td>\n",
       "      <td>Urban</td>\n",
       "      <td>Fine no high winds</td>\n",
       "      <td>Other vehicle</td>\n",
       "    </tr>\n",
       "    <tr>\n",
       "      <th>...</th>\n",
       "      <td>...</td>\n",
       "      <td>...</td>\n",
       "      <td>...</td>\n",
       "      <td>...</td>\n",
       "      <td>...</td>\n",
       "      <td>...</td>\n",
       "      <td>...</td>\n",
       "      <td>...</td>\n",
       "      <td>...</td>\n",
       "      <td>...</td>\n",
       "      <td>...</td>\n",
       "      <td>...</td>\n",
       "      <td>...</td>\n",
       "      <td>...</td>\n",
       "    </tr>\n",
       "    <tr>\n",
       "      <th>660674</th>\n",
       "      <td>201091NM01760</td>\n",
       "      <td>Slight</td>\n",
       "      <td>18/02/2022</td>\n",
       "      <td>57.374005</td>\n",
       "      <td>Daylight</td>\n",
       "      <td>Highland</td>\n",
       "      <td>-3.467828</td>\n",
       "      <td>2</td>\n",
       "      <td>1</td>\n",
       "      <td>Dry</td>\n",
       "      <td>Single carriageway</td>\n",
       "      <td>Rural</td>\n",
       "      <td>Fine no high winds</td>\n",
       "      <td>Car</td>\n",
       "    </tr>\n",
       "    <tr>\n",
       "      <th>660675</th>\n",
       "      <td>201091NM01881</td>\n",
       "      <td>Slight</td>\n",
       "      <td>21/02/2022</td>\n",
       "      <td>57.232273</td>\n",
       "      <td>Darkness - no lighting</td>\n",
       "      <td>Highland</td>\n",
       "      <td>-3.809281</td>\n",
       "      <td>1</td>\n",
       "      <td>1</td>\n",
       "      <td>Frost or ice</td>\n",
       "      <td>Single carriageway</td>\n",
       "      <td>Rural</td>\n",
       "      <td>Fine no high winds</td>\n",
       "      <td>Car</td>\n",
       "    </tr>\n",
       "    <tr>\n",
       "      <th>660676</th>\n",
       "      <td>201091NM01935</td>\n",
       "      <td>Slight</td>\n",
       "      <td>23/02/2022</td>\n",
       "      <td>57.585044</td>\n",
       "      <td>Daylight</td>\n",
       "      <td>Highland</td>\n",
       "      <td>-3.862727</td>\n",
       "      <td>1</td>\n",
       "      <td>3</td>\n",
       "      <td>Frost or ice</td>\n",
       "      <td>Single carriageway</td>\n",
       "      <td>Rural</td>\n",
       "      <td>Fine no high winds</td>\n",
       "      <td>Car</td>\n",
       "    </tr>\n",
       "    <tr>\n",
       "      <th>660677</th>\n",
       "      <td>201091NM01964</td>\n",
       "      <td>Serious</td>\n",
       "      <td>23/02/2022</td>\n",
       "      <td>57.214898</td>\n",
       "      <td>Darkness - no lighting</td>\n",
       "      <td>Highland</td>\n",
       "      <td>-3.823997</td>\n",
       "      <td>1</td>\n",
       "      <td>2</td>\n",
       "      <td>Wet or damp</td>\n",
       "      <td>Single carriageway</td>\n",
       "      <td>Rural</td>\n",
       "      <td>Fine no high winds</td>\n",
       "      <td>Motorcycle over 500cc</td>\n",
       "    </tr>\n",
       "    <tr>\n",
       "      <th>660678</th>\n",
       "      <td>201091NM02142</td>\n",
       "      <td>Serious</td>\n",
       "      <td>28/02/2022</td>\n",
       "      <td>57.575210</td>\n",
       "      <td>Daylight</td>\n",
       "      <td>Highland</td>\n",
       "      <td>-3.895673</td>\n",
       "      <td>1</td>\n",
       "      <td>1</td>\n",
       "      <td>Wet or damp</td>\n",
       "      <td>Dual carriageway</td>\n",
       "      <td>Rural</td>\n",
       "      <td>Snowing no high winds</td>\n",
       "      <td>Car</td>\n",
       "    </tr>\n",
       "  </tbody>\n",
       "</table>\n",
       "<p>660679 rows × 14 columns</p>\n",
       "</div>"
      ],
      "text/plain": [
       "                Index Accident_Severity Accident Date   Latitude  \\\n",
       "0       200701BS64157           Serious    05/06/2019  51.506187   \n",
       "1       200701BS65737           Serious    02/07/2019  51.495029   \n",
       "2       200701BS66127           Serious    26/08/2019  51.517715   \n",
       "3       200701BS66128           Serious    16/08/2019  51.495478   \n",
       "4       200701BS66837            Slight    03/09/2019  51.488576   \n",
       "...               ...               ...           ...        ...   \n",
       "660674  201091NM01760            Slight    18/02/2022  57.374005   \n",
       "660675  201091NM01881            Slight    21/02/2022  57.232273   \n",
       "660676  201091NM01935            Slight    23/02/2022  57.585044   \n",
       "660677  201091NM01964           Serious    23/02/2022  57.214898   \n",
       "660678  201091NM02142           Serious    28/02/2022  57.575210   \n",
       "\n",
       "                   Light_Conditions           District Area  Longitude  \\\n",
       "0             Darkness - lights lit  Kensington and Chelsea  -0.209082   \n",
       "1                          Daylight  Kensington and Chelsea  -0.173647   \n",
       "2       Darkness - lighting unknown  Kensington and Chelsea  -0.210215   \n",
       "3                          Daylight  Kensington and Chelsea  -0.202731   \n",
       "4             Darkness - lights lit  Kensington and Chelsea  -0.192487   \n",
       "...                             ...                     ...        ...   \n",
       "660674                     Daylight                Highland  -3.467828   \n",
       "660675       Darkness - no lighting                Highland  -3.809281   \n",
       "660676                     Daylight                Highland  -3.862727   \n",
       "660677       Darkness - no lighting                Highland  -3.823997   \n",
       "660678                     Daylight                Highland  -3.895673   \n",
       "\n",
       "        Number_of_Casualties  Number_of_Vehicles Road_Surface_Conditions  \\\n",
       "0                          1                   2                     Dry   \n",
       "1                          1                   2             Wet or damp   \n",
       "2                          1                   3                     Dry   \n",
       "3                          1                   4                     Dry   \n",
       "4                          1                   2                     Dry   \n",
       "...                      ...                 ...                     ...   \n",
       "660674                     2                   1                     Dry   \n",
       "660675                     1                   1            Frost or ice   \n",
       "660676                     1                   3            Frost or ice   \n",
       "660677                     1                   2             Wet or damp   \n",
       "660678                     1                   1             Wet or damp   \n",
       "\n",
       "                 Road_Type Urban_or_Rural_Area     Weather_Conditions  \\\n",
       "0       Single carriageway               Urban     Fine no high winds   \n",
       "1       Single carriageway               Urban  Raining no high winds   \n",
       "2       Single carriageway               Urban     Fine no high winds   \n",
       "3       Single carriageway               Urban     Fine no high winds   \n",
       "4       Single carriageway               Urban     Fine no high winds   \n",
       "...                    ...                 ...                    ...   \n",
       "660674  Single carriageway               Rural     Fine no high winds   \n",
       "660675  Single carriageway               Rural     Fine no high winds   \n",
       "660676  Single carriageway               Rural     Fine no high winds   \n",
       "660677  Single carriageway               Rural     Fine no high winds   \n",
       "660678    Dual carriageway               Rural  Snowing no high winds   \n",
       "\n",
       "                                Vehicle_Type  \n",
       "0                                        Car  \n",
       "1                                        Car  \n",
       "2                      Taxi/Private hire car  \n",
       "3       Bus or coach (17 or more pass seats)  \n",
       "4                              Other vehicle  \n",
       "...                                      ...  \n",
       "660674                                   Car  \n",
       "660675                                   Car  \n",
       "660676                                   Car  \n",
       "660677                 Motorcycle over 500cc  \n",
       "660678                                   Car  \n",
       "\n",
       "[660679 rows x 14 columns]"
      ]
     },
     "execution_count": 87,
     "metadata": {},
     "output_type": "execute_result"
    }
   ],
   "source": [
    "uk_accdt"
   ]
  },
  {
   "cell_type": "code",
   "execution_count": 45,
   "id": "06538763-7931-4552-acbb-d1efa8649c36",
   "metadata": {},
   "outputs": [
    {
     "data": {
      "text/html": [
       "<div>\n",
       "<style scoped>\n",
       "    .dataframe tbody tr th:only-of-type {\n",
       "        vertical-align: middle;\n",
       "    }\n",
       "\n",
       "    .dataframe tbody tr th {\n",
       "        vertical-align: top;\n",
       "    }\n",
       "\n",
       "    .dataframe thead th {\n",
       "        text-align: right;\n",
       "    }\n",
       "</style>\n",
       "<table border=\"1\" class=\"dataframe\">\n",
       "  <thead>\n",
       "    <tr style=\"text-align: right;\">\n",
       "      <th></th>\n",
       "      <th>Latitude</th>\n",
       "      <th>Longitude</th>\n",
       "      <th>Number_of_Casualties</th>\n",
       "      <th>Number_of_Vehicles</th>\n",
       "    </tr>\n",
       "  </thead>\n",
       "  <tbody>\n",
       "    <tr>\n",
       "      <th>count</th>\n",
       "      <td>660654.000000</td>\n",
       "      <td>660653.000000</td>\n",
       "      <td>660679.000000</td>\n",
       "      <td>660679.000000</td>\n",
       "    </tr>\n",
       "    <tr>\n",
       "      <th>mean</th>\n",
       "      <td>52.553866</td>\n",
       "      <td>-1.431210</td>\n",
       "      <td>1.357040</td>\n",
       "      <td>1.831255</td>\n",
       "    </tr>\n",
       "    <tr>\n",
       "      <th>std</th>\n",
       "      <td>1.406922</td>\n",
       "      <td>1.383330</td>\n",
       "      <td>0.824847</td>\n",
       "      <td>0.715269</td>\n",
       "    </tr>\n",
       "    <tr>\n",
       "      <th>min</th>\n",
       "      <td>49.914430</td>\n",
       "      <td>-7.516225</td>\n",
       "      <td>1.000000</td>\n",
       "      <td>1.000000</td>\n",
       "    </tr>\n",
       "    <tr>\n",
       "      <th>25%</th>\n",
       "      <td>51.490690</td>\n",
       "      <td>-2.332291</td>\n",
       "      <td>1.000000</td>\n",
       "      <td>1.000000</td>\n",
       "    </tr>\n",
       "    <tr>\n",
       "      <th>50%</th>\n",
       "      <td>52.315641</td>\n",
       "      <td>-1.411667</td>\n",
       "      <td>1.000000</td>\n",
       "      <td>2.000000</td>\n",
       "    </tr>\n",
       "    <tr>\n",
       "      <th>75%</th>\n",
       "      <td>53.453452</td>\n",
       "      <td>-0.232869</td>\n",
       "      <td>1.000000</td>\n",
       "      <td>2.000000</td>\n",
       "    </tr>\n",
       "    <tr>\n",
       "      <th>max</th>\n",
       "      <td>60.757544</td>\n",
       "      <td>1.762010</td>\n",
       "      <td>68.000000</td>\n",
       "      <td>32.000000</td>\n",
       "    </tr>\n",
       "  </tbody>\n",
       "</table>\n",
       "</div>"
      ],
      "text/plain": [
       "            Latitude      Longitude  Number_of_Casualties  Number_of_Vehicles\n",
       "count  660654.000000  660653.000000         660679.000000       660679.000000\n",
       "mean       52.553866      -1.431210              1.357040            1.831255\n",
       "std         1.406922       1.383330              0.824847            0.715269\n",
       "min        49.914430      -7.516225              1.000000            1.000000\n",
       "25%        51.490690      -2.332291              1.000000            1.000000\n",
       "50%        52.315641      -1.411667              1.000000            2.000000\n",
       "75%        53.453452      -0.232869              1.000000            2.000000\n",
       "max        60.757544       1.762010             68.000000           32.000000"
      ]
     },
     "execution_count": 45,
     "metadata": {},
     "output_type": "execute_result"
    }
   ],
   "source": [
    "uk_accdt.describe()"
   ]
  },
  {
   "cell_type": "code",
   "execution_count": 46,
   "id": "8e83a4a5-7f55-4df6-bf1f-a9cd60f6f807",
   "metadata": {},
   "outputs": [
    {
     "data": {
      "text/plain": [
       "Index                          0\n",
       "Accident_Severity              0\n",
       "Accident Date                  0\n",
       "Latitude                      25\n",
       "Light_Conditions               0\n",
       "District Area                  0\n",
       "Longitude                     26\n",
       "Number_of_Casualties           0\n",
       "Number_of_Vehicles             0\n",
       "Road_Surface_Conditions      726\n",
       "Road_Type                   4520\n",
       "Urban_or_Rural_Area           15\n",
       "Weather_Conditions         14128\n",
       "Vehicle_Type                   0\n",
       "dtype: int64"
      ]
     },
     "execution_count": 46,
     "metadata": {},
     "output_type": "execute_result"
    }
   ],
   "source": [
    "uk_accdt.isnull().sum()"
   ]
  },
  {
   "cell_type": "code",
   "execution_count": 47,
   "id": "6f82602b-1423-42e6-b8e5-b0102086b5b6",
   "metadata": {},
   "outputs": [],
   "source": [
    "uk_accdt['Latitude']=uk_accdt['Latitude'].fillna(uk_accdt['Latitude'].mean())\n",
    "uk_accdt['Longitude']=uk_accdt['Longitude'].fillna(uk_accdt['Longitude'].mean())\n",
    "uk_accdt['Road_Surface_Conditions']=uk_accdt['Road_Surface_Conditions'].fillna(uk_accdt['Road_Surface_Conditions'].mode()[0])\n",
    "uk_accdt['Road_Type']=uk_accdt['Road_Type'].fillna(uk_accdt['Road_Type'].mode()[0])\n",
    "uk_accdt['Urban_or_Rural_Area']=uk_accdt['Urban_or_Rural_Area'].fillna(uk_accdt['Urban_or_Rural_Area'].mode()[0])\n",
    "uk_accdt['Weather_Conditions']=uk_accdt['Weather_Conditions'].fillna(uk_accdt['Weather_Conditions'].mode()[0])"
   ]
  },
  {
   "cell_type": "code",
   "execution_count": 48,
   "id": "ed96405e-efba-4319-84ec-ac7abe8c9e07",
   "metadata": {},
   "outputs": [
    {
     "data": {
      "text/plain": [
       "Index                      0\n",
       "Accident_Severity          0\n",
       "Accident Date              0\n",
       "Latitude                   0\n",
       "Light_Conditions           0\n",
       "District Area              0\n",
       "Longitude                  0\n",
       "Number_of_Casualties       0\n",
       "Number_of_Vehicles         0\n",
       "Road_Surface_Conditions    0\n",
       "Road_Type                  0\n",
       "Urban_or_Rural_Area        0\n",
       "Weather_Conditions         0\n",
       "Vehicle_Type               0\n",
       "dtype: int64"
      ]
     },
     "execution_count": 48,
     "metadata": {},
     "output_type": "execute_result"
    }
   ],
   "source": [
    "uk_accdt.isnull().sum()"
   ]
  },
  {
   "cell_type": "code",
   "execution_count": 49,
   "id": "c4e4db7c-f94d-4549-a274-26e2698c2703",
   "metadata": {},
   "outputs": [
    {
     "name": "stdout",
     "output_type": "stream",
     "text": [
      "<class 'pandas.core.frame.DataFrame'>\n",
      "RangeIndex: 660679 entries, 0 to 660678\n",
      "Data columns (total 14 columns):\n",
      " #   Column                   Non-Null Count   Dtype  \n",
      "---  ------                   --------------   -----  \n",
      " 0   Index                    660679 non-null  object \n",
      " 1   Accident_Severity        660679 non-null  object \n",
      " 2   Accident Date            660679 non-null  object \n",
      " 3   Latitude                 660679 non-null  float64\n",
      " 4   Light_Conditions         660679 non-null  object \n",
      " 5   District Area            660679 non-null  object \n",
      " 6   Longitude                660679 non-null  float64\n",
      " 7   Number_of_Casualties     660679 non-null  int64  \n",
      " 8   Number_of_Vehicles       660679 non-null  int64  \n",
      " 9   Road_Surface_Conditions  660679 non-null  object \n",
      " 10  Road_Type                660679 non-null  object \n",
      " 11  Urban_or_Rural_Area      660679 non-null  object \n",
      " 12  Weather_Conditions       660679 non-null  object \n",
      " 13  Vehicle_Type             660679 non-null  object \n",
      "dtypes: float64(2), int64(2), object(10)\n",
      "memory usage: 70.6+ MB\n"
     ]
    }
   ],
   "source": [
    "uk_accdt.info()"
   ]
  },
  {
   "cell_type": "code",
   "execution_count": 50,
   "id": "544c7a8a-cb1e-402c-ad19-c0d45d2c232e",
   "metadata": {},
   "outputs": [],
   "source": [
    "uk_accdt['Index']=uk_accdt['Index'].astype('category')\n",
    "uk_accdt['Accident_Severity']=uk_accdt['Accident_Severity'].astype('category')\n",
    "uk_accdt['Accident Date']=uk_accdt['Accident Date'].astype('category')\n",
    "uk_accdt['Light_Conditions']=uk_accdt['Light_Conditions'].astype('category')\n",
    "uk_accdt['District Area']=uk_accdt['District Area'].astype('category')\n",
    "uk_accdt['Road_Surface_Conditions']=uk_accdt['Road_Surface_Conditions'].astype('category')\n",
    "uk_accdt['Road_Type']=uk_accdt['Road_Type'].astype('category')\n",
    "uk_accdt['Urban_or_Rural_Area']=uk_accdt['Urban_or_Rural_Area'].astype('category')\n",
    "uk_accdt['Weather_Conditions']=uk_accdt['Weather_Conditions'].astype('category')\n",
    "uk_accdt['Vehicle_Type']=uk_accdt['Vehicle_Type'].astype('category')"
   ]
  },
  {
   "cell_type": "code",
   "execution_count": 51,
   "id": "0a839dc7-0820-4a30-bf44-f155cba91a96",
   "metadata": {},
   "outputs": [
    {
     "name": "stdout",
     "output_type": "stream",
     "text": [
      "<class 'pandas.core.frame.DataFrame'>\n",
      "RangeIndex: 660679 entries, 0 to 660678\n",
      "Data columns (total 14 columns):\n",
      " #   Column                   Non-Null Count   Dtype   \n",
      "---  ------                   --------------   -----   \n",
      " 0   Index                    660679 non-null  category\n",
      " 1   Accident_Severity        660679 non-null  category\n",
      " 2   Accident Date            660679 non-null  category\n",
      " 3   Latitude                 660679 non-null  float64 \n",
      " 4   Light_Conditions         660679 non-null  category\n",
      " 5   District Area            660679 non-null  category\n",
      " 6   Longitude                660679 non-null  float64 \n",
      " 7   Number_of_Casualties     660679 non-null  int64   \n",
      " 8   Number_of_Vehicles       660679 non-null  int64   \n",
      " 9   Road_Surface_Conditions  660679 non-null  category\n",
      " 10  Road_Type                660679 non-null  category\n",
      " 11  Urban_or_Rural_Area      660679 non-null  category\n",
      " 12  Weather_Conditions       660679 non-null  category\n",
      " 13  Vehicle_Type             660679 non-null  category\n",
      "dtypes: category(10), float64(2), int64(2)\n",
      "memory usage: 49.0 MB\n"
     ]
    }
   ],
   "source": [
    "uk_accdt.info()"
   ]
  },
  {
   "cell_type": "markdown",
   "id": "d2ccf589-e97c-49e6-8d8e-472a14d7dca5",
   "metadata": {},
   "source": [
    "<h1>Activity 2 UK Accident Questions</h1>\n",
    "<hr>"
   ]
  },
  {
   "cell_type": "markdown",
   "id": "cd362f0e-4bdd-4fd3-b985-a2a6631b5448",
   "metadata": {},
   "source": [
    "<h1>1. Which type of vehicle has the most Serious accidents? </h1>"
   ]
  },
  {
   "cell_type": "code",
   "execution_count": 52,
   "id": "86013833-4165-4896-a485-0f4b5c31e387",
   "metadata": {},
   "outputs": [],
   "source": [
    "ser = uk_accdt[uk_accdt['Accident_Severity'] == 'Serious']"
   ]
  },
  {
   "cell_type": "code",
   "execution_count": 53,
   "id": "ca87ea7f-632d-4196-a975-b2a82aeedad4",
   "metadata": {},
   "outputs": [
    {
     "data": {
      "text/plain": [
       "Vehicle_Type\n",
       "Car                                      66461\n",
       "Van / Goods 3.5 tonnes mgw or under       4554\n",
       "Motorcycle over 500cc                     3457\n",
       "Bus or coach (17 or more pass seats)      3373\n",
       "Goods 7.5 tonnes mgw and over             2321\n",
       "Motorcycle 125cc and under                2031\n",
       "Taxi/Private hire car                     1771\n",
       "Motorcycle 50cc and under                 1014\n",
       "Motorcycle over 125cc and up to 500cc     1014\n",
       "Goods over 3.5t. and under 7.5t            857\n",
       "Other vehicle                              767\n",
       "Agricultural vehicle                       282\n",
       "Minibus (8 - 16 passenger seats)           276\n",
       "Pedal cycle                                 39\n",
       "Data missing or out of range                 0\n",
       "Ridden horse                                 0\n",
       "Name: count, dtype: int64"
      ]
     },
     "execution_count": 53,
     "metadata": {},
     "output_type": "execute_result"
    }
   ],
   "source": [
    "ser['Vehicle_Type'].value_counts()"
   ]
  },
  {
   "cell_type": "markdown",
   "id": "8c4b54ab-9826-4a8d-95b9-ce09551e2388",
   "metadata": {},
   "source": [
    "<h2>Insight No.1</h2>\n",
    "<h3>The car has the most number of serious accidents with 66461 accidents.</h3>"
   ]
  },
  {
   "cell_type": "markdown",
   "id": "4426fa59-c2f7-4942-97de-e066301a5623",
   "metadata": {},
   "source": [
    "<h1>2. Which weather was the road surface has the most fatal accidents?</h1>\n",
    "<hr>"
   ]
  },
  {
   "cell_type": "code",
   "execution_count": 54,
   "id": "c33edf42-0238-486c-acdb-0e3382f7865f",
   "metadata": {},
   "outputs": [],
   "source": [
    "fatal = uk_accdt[uk_accdt['Accident_Severity'] == 'Fatal']"
   ]
  },
  {
   "cell_type": "code",
   "execution_count": 55,
   "id": "037774f2-688a-4e81-895f-b7c745a1c84b",
   "metadata": {},
   "outputs": [],
   "source": [
    "weat = fatal.groupby(['Weather_Conditions','Road_Surface_Conditions']).size()"
   ]
  },
  {
   "cell_type": "code",
   "execution_count": 56,
   "id": "0ceb5406-2bc5-4efc-bbed-493ce159fc2f",
   "metadata": {},
   "outputs": [
    {
     "data": {
      "text/plain": [
       "Weather_Conditions     Road_Surface_Conditions\n",
       "Fine + high winds      Dry                         103\n",
       "                       Flood over 3cm. deep          1\n",
       "                       Frost or ice                  3\n",
       "                       Snow                          0\n",
       "                       Wet or damp                  68\n",
       "Fine no high winds     Dry                        5653\n",
       "                       Flood over 3cm. deep          6\n",
       "                       Frost or ice                125\n",
       "                       Snow                         14\n",
       "                       Wet or damp                1409\n",
       "Fog or mist            Dry                          18\n",
       "                       Flood over 3cm. deep          0\n",
       "                       Frost or ice                  8\n",
       "                       Snow                          0\n",
       "                       Wet or damp                  56\n",
       "Other                  Dry                          12\n",
       "                       Flood over 3cm. deep          0\n",
       "                       Frost or ice                 43\n",
       "                       Snow                          1\n",
       "                       Wet or damp                 109\n",
       "Raining + high winds   Dry                           0\n",
       "                       Flood over 3cm. deep          5\n",
       "                       Frost or ice                  1\n",
       "                       Snow                          0\n",
       "                       Wet or damp                 139\n",
       "Raining no high winds  Dry                           2\n",
       "                       Flood over 3cm. deep         11\n",
       "                       Frost or ice                  5\n",
       "                       Snow                          1\n",
       "                       Wet or damp                 829\n",
       "Snowing + high winds   Dry                           0\n",
       "                       Flood over 3cm. deep          0\n",
       "                       Frost or ice                  0\n",
       "                       Snow                          2\n",
       "                       Wet or damp                   1\n",
       "Snowing no high winds  Dry                           2\n",
       "                       Flood over 3cm. deep          0\n",
       "                       Frost or ice                  8\n",
       "                       Snow                         17\n",
       "                       Wet or damp                   9\n",
       "dtype: int64"
      ]
     },
     "execution_count": 56,
     "metadata": {},
     "output_type": "execute_result"
    }
   ],
   "source": [
    "weat"
   ]
  },
  {
   "cell_type": "markdown",
   "id": "32cec97a-69c0-4319-8c67-56d7a1626ba3",
   "metadata": {},
   "source": [
    "<h2>Insight No.2</h2>\n",
    "<h3>Fine no high winds, and Dry road surface has the most fatal accidents.</h3>"
   ]
  },
  {
   "cell_type": "markdown",
   "id": "b6ef6272-8215-41d3-b329-4d4962e7fc94",
   "metadata": {},
   "source": [
    "<h1>3. Is there a correlation between Number of Casualties and Number of Vehicles?</h1>\n",
    "<hr>"
   ]
  },
  {
   "cell_type": "code",
   "execution_count": 57,
   "id": "e8f3031d-257f-4a97-aefb-b747d5b246df",
   "metadata": {},
   "outputs": [
    {
     "data": {
      "text/plain": [
       "np.float64(0.2288888612692756)"
      ]
     },
     "execution_count": 57,
     "metadata": {},
     "output_type": "execute_result"
    }
   ],
   "source": [
    "uk_accdt['Number_of_Casualties'].corr(uk_accdt['Number_of_Vehicles'])"
   ]
  },
  {
   "cell_type": "markdown",
   "id": "1c9af5d9-8d41-42f8-aca4-38bdd8e0dc6d",
   "metadata": {},
   "source": [
    "<h2>Insight No.3</h2>\n",
    "<h3>There is no correlation between Number of Casualties and Number of Vehicles.</h3>"
   ]
  },
  {
   "cell_type": "markdown",
   "id": "c5598e56-4ac1-4042-8702-864569db3db6",
   "metadata": {},
   "source": [
    "<h1>4. Which year has the most accidents in the Urban Area?</h1>\n",
    "<hr>|"
   ]
  },
  {
   "cell_type": "code",
   "execution_count": 58,
   "id": "5986ccb6-7765-49a1-8eed-fd0ca856163b",
   "metadata": {},
   "outputs": [],
   "source": [
    "urban = uk_accdt[uk_accdt['Urban_or_Rural_Area'] == 'Urban'] "
   ]
  },
  {
   "cell_type": "code",
   "execution_count": 59,
   "id": "c4b3ab0b-16dc-4bda-81cc-2b213e931d19",
   "metadata": {},
   "outputs": [
    {
     "data": {
      "text/plain": [
       "Accident Date\n",
       "12/11/2021    456\n",
       "13/07/2019    448\n",
       "13/11/2021    447\n",
       "06/12/2019    442\n",
       "30/11/2019    442\n",
       "             ... \n",
       "25/12/2021     97\n",
       "25/12/2022     96\n",
       "25/12/2019     94\n",
       "10/01/2022     81\n",
       "25/12/2020     68\n",
       "Name: count, Length: 1461, dtype: int64"
      ]
     },
     "execution_count": 59,
     "metadata": {},
     "output_type": "execute_result"
    }
   ],
   "source": [
    "urban['Accident Date'].value_counts()"
   ]
  },
  {
   "cell_type": "markdown",
   "id": "b66da3c5-266c-4354-905f-386598730ba2",
   "metadata": {},
   "source": [
    "<h2>Insight no.4</h2>\n",
    "<h3> The year 2021 had the most accidents in the Urban Area.</h3>"
   ]
  },
  {
   "cell_type": "markdown",
   "id": "122ebfdc-0519-46e8-851b-b359a1de578b",
   "metadata": {},
   "source": [
    "<h1>5. Which year has the most accidents in the Rural Area?</h1>\n",
    "<hr>"
   ]
  },
  {
   "cell_type": "code",
   "execution_count": 60,
   "id": "cbef51dc-5c55-47ef-a1e6-eb6db051125f",
   "metadata": {},
   "outputs": [],
   "source": [
    "rural = uk_accdt[uk_accdt['Urban_or_Rural_Area'] == 'Rural'] "
   ]
  },
  {
   "cell_type": "code",
   "execution_count": 61,
   "id": "529c3a6d-7332-441f-aaf6-1fd6131f6b6b",
   "metadata": {},
   "outputs": [
    {
     "data": {
      "text/plain": [
       "Accident Date\n",
       "11/02/2021    333\n",
       "14/08/2019    303\n",
       "18/01/2019    277\n",
       "31/01/2019    277\n",
       "01/02/2019    271\n",
       "             ... \n",
       "25/12/2019     63\n",
       "25/12/2020     50\n",
       "25/12/2022     49\n",
       "30/12/2022     44\n",
       "10/01/2022     42\n",
       "Name: count, Length: 1461, dtype: int64"
      ]
     },
     "execution_count": 61,
     "metadata": {},
     "output_type": "execute_result"
    }
   ],
   "source": [
    "rural['Accident Date'].value_counts()"
   ]
  },
  {
   "cell_type": "markdown",
   "id": "50e8e97a-60d1-4cb1-ac5d-43a0cdc7767b",
   "metadata": {},
   "source": [
    "<h2>Insight no.5</h2>\n",
    "<h3> The year 2021 had the most accidents in the Rural Area.</h3>"
   ]
  },
  {
   "cell_type": "markdown",
   "id": "22a7d7ed-9493-4aaa-8527-0206869d64cf",
   "metadata": {},
   "source": [
    "<h1>6. What is the number of Casualties\tthat have the fatal accident in Car type vechicle?</h1>\n",
    "<hr>"
   ]
  },
  {
   "cell_type": "code",
   "execution_count": 62,
   "id": "671b954d-2521-48b5-982d-6ae533611fd6",
   "metadata": {},
   "outputs": [],
   "source": [
    "casu = uk_accdt[(uk_accdt['Accident_Severity'] == \"Fatal\") & (uk_accdt['Vehicle_Type'] == 'Car')]"
   ]
  },
  {
   "cell_type": "code",
   "execution_count": 63,
   "id": "e11712c0-7282-4797-aa03-da1b8ffe116d",
   "metadata": {},
   "outputs": [
    {
     "data": {
      "text/plain": [
       "Number_of_Casualties\n",
       "1     3667\n",
       "2     1542\n",
       "3      670\n",
       "4      347\n",
       "5      178\n",
       "6       89\n",
       "7       40\n",
       "8       13\n",
       "9        9\n",
       "10       7\n",
       "11       2\n",
       "14       2\n",
       "13       2\n",
       "42       1\n",
       "68       1\n",
       "16       1\n",
       "17       1\n",
       "18       1\n",
       "21       1\n",
       "12       1\n",
       "40       1\n",
       "24       1\n",
       "Name: count, dtype: int64"
      ]
     },
     "execution_count": 63,
     "metadata": {},
     "output_type": "execute_result"
    }
   ],
   "source": [
    "casu['Number_of_Casualties'].value_counts()"
   ]
  },
  {
   "cell_type": "code",
   "execution_count": 64,
   "id": "386eac1c-65d9-4efe-9c2e-03bbadaa618b",
   "metadata": {},
   "outputs": [
    {
     "data": {
      "text/plain": [
       "np.float64(1.8917439562110385)"
      ]
     },
     "execution_count": 64,
     "metadata": {},
     "output_type": "execute_result"
    }
   ],
   "source": [
    "casu['Number_of_Casualties'].mean()"
   ]
  },
  {
   "cell_type": "markdown",
   "id": "b1931b2c-f750-4106-aafd-91592396d5b0",
   "metadata": {},
   "source": [
    "<h2>Insight no.6</h2>\n",
    "<h3> In the Car type vehicle, the number of casualties that have the most fatal accidents is 1 with 3367 fatal accidents.</h3>"
   ]
  },
  {
   "cell_type": "markdown",
   "id": "d85dbc40-37eb-4f3b-9a58-f405e9663904",
   "metadata": {},
   "source": [
    "<h1>7. Which type of vehicle has the most Slight accidents?</h1>\n",
    "<hr>"
   ]
  },
  {
   "cell_type": "code",
   "execution_count": 65,
   "id": "f959f3c0-a4c0-49b4-a241-55310367d42b",
   "metadata": {},
   "outputs": [],
   "source": [
    "slit = uk_accdt[uk_accdt['Accident_Severity'] == 'Slight']"
   ]
  },
  {
   "cell_type": "code",
   "execution_count": 66,
   "id": "247ac116-3701-47ee-a8ea-ac2196767317",
   "metadata": {},
   "outputs": [
    {
     "data": {
      "text/plain": [
       "Vehicle_Type\n",
       "Car                                      424954\n",
       "Van / Goods 3.5 tonnes mgw or under       29139\n",
       "Bus or coach (17 or more pass seats)      22180\n",
       "Motorcycle over 500cc                     21861\n",
       "Goods 7.5 tonnes mgw and over             14770\n",
       "Motorcycle 125cc and under                13049\n",
       "Taxi/Private hire car                     11368\n",
       "Motorcycle over 125cc and up to 500cc      6537\n",
       "Motorcycle 50cc and under                  6494\n",
       "Goods over 3.5t. and under 7.5t            5172\n",
       "Other vehicle                              4800\n",
       "Minibus (8 - 16 passenger seats)           1671\n",
       "Agricultural vehicle                       1644\n",
       "Pedal cycle                                 152\n",
       "Data missing or out of range                  6\n",
       "Ridden horse                                  4\n",
       "Name: count, dtype: int64"
      ]
     },
     "execution_count": 66,
     "metadata": {},
     "output_type": "execute_result"
    }
   ],
   "source": [
    "slit['Vehicle_Type'].value_counts()"
   ]
  },
  {
   "cell_type": "markdown",
   "id": "6731458e-646a-4079-9578-9e83d1fd4a3c",
   "metadata": {},
   "source": [
    "<h2>Insight no.7</h2>\n",
    "<h3> The car has the most number of Slight accidents with 424954 accidents.</h3>"
   ]
  },
  {
   "cell_type": "markdown",
   "id": "4642189f-4451-4f3a-a5bf-cb1ff8f74b90",
   "metadata": {},
   "source": [
    "<h1>8. Which type of vehicle has the most Fatal accidents?</h1>\n",
    "<hr>"
   ]
  },
  {
   "cell_type": "code",
   "execution_count": 67,
   "id": "5ade00f2-f1d6-432e-8453-cfc788f9fcab",
   "metadata": {},
   "outputs": [],
   "source": [
    "fatal = uk_accdt[uk_accdt['Accident_Severity'] == 'Fatal']"
   ]
  },
  {
   "cell_type": "code",
   "execution_count": 68,
   "id": "4d94dfde-41ef-4a73-83de-610dbb0a31a6",
   "metadata": {},
   "outputs": [
    {
     "data": {
      "text/plain": [
       "Vehicle_Type\n",
       "Car                                      6577\n",
       "Van / Goods 3.5 tonnes mgw or under       467\n",
       "Motorcycle over 500cc                     339\n",
       "Bus or coach (17 or more pass seats)      325\n",
       "Goods 7.5 tonnes mgw and over             216\n",
       "Motorcycle 125cc and under                189\n",
       "Taxi/Private hire car                     155\n",
       "Motorcycle over 125cc and up to 500cc     105\n",
       "Motorcycle 50cc and under                  95\n",
       "Other vehicle                              70\n",
       "Goods over 3.5t. and under 7.5t            67\n",
       "Minibus (8 - 16 passenger seats)           29\n",
       "Agricultural vehicle                       21\n",
       "Pedal cycle                                 6\n",
       "Data missing or out of range                0\n",
       "Ridden horse                                0\n",
       "Name: count, dtype: int64"
      ]
     },
     "execution_count": 68,
     "metadata": {},
     "output_type": "execute_result"
    }
   ],
   "source": [
    "fatal['Vehicle_Type'].value_counts()"
   ]
  },
  {
   "cell_type": "markdown",
   "id": "7f4ca79b-11c1-439e-9ea5-fe25aed2b24a",
   "metadata": {},
   "source": [
    "<h2>Insight no.8</h2>\n",
    "<h3> The car has the most number of Fatal accidents with 6577 accidents.</h3>"
   ]
  },
  {
   "cell_type": "markdown",
   "id": "e3a57532-ff01-4b3f-812e-bb1f9e1ad4d1",
   "metadata": {},
   "source": [
    "<h1>9. Which District Area has the most Serious Accidents in Dry Road Surface Conditions?</h1>\n",
    "<hr>"
   ]
  },
  {
   "cell_type": "code",
   "execution_count": 69,
   "id": "f97a6dd6-8523-416a-8fb2-587043a05862",
   "metadata": {},
   "outputs": [],
   "source": [
    "drt=  uk_accdt[(uk_accdt['Accident_Severity'] == 'Serious') & (uk_accdt['Road_Surface_Conditions'] == 'Dry')]"
   ]
  },
  {
   "cell_type": "code",
   "execution_count": 70,
   "id": "c811cf71-391c-4cce-9810-31041e9fe610",
   "metadata": {},
   "outputs": [
    {
     "data": {
      "text/plain": [
       "District Area\n",
       "Birmingham                   1053\n",
       "Leeds                         839\n",
       "Westminster                   761\n",
       "Bradford                      531\n",
       "Liverpool                     512\n",
       "                             ... \n",
       "Western Isles                  14\n",
       "Clackmannanshire               13\n",
       "Orkney Islands                 12\n",
       "Shetland Islands                8\n",
       "London Airport (Heathrow)       7\n",
       "Name: count, Length: 422, dtype: int64"
      ]
     },
     "execution_count": 70,
     "metadata": {},
     "output_type": "execute_result"
    }
   ],
   "source": [
    "drt['District Area'].value_counts()"
   ]
  },
  {
   "cell_type": "markdown",
   "id": "4c89d618-9cc7-4435-9a43-f979abd65e30",
   "metadata": {},
   "source": [
    "<h2>Insight no.9</h2>\n",
    "<h3> The District Area of Birmingham has the largest number of Serious accidents in Dry Road Surface Conditions, with 1053 accidents.</h3>"
   ]
  },
  {
   "cell_type": "markdown",
   "id": "b5cde869-6bca-4c2f-949c-2acbf97bfbf0",
   "metadata": {},
   "source": [
    "<h1>10. Which District Area has the most Fatal Accidents in Wet or Damp Road Surface Conditions?</h1>\n",
    "<hr>"
   ]
  },
  {
   "cell_type": "code",
   "execution_count": 71,
   "id": "ef97b225-bb35-4766-b632-127b6637b0eb",
   "metadata": {},
   "outputs": [],
   "source": [
    "frt=  uk_accdt[(uk_accdt['Accident_Severity'] == 'Fatal') & (uk_accdt['Road_Surface_Conditions'] == 'Wet or damp')]"
   ]
  },
  {
   "cell_type": "code",
   "execution_count": 72,
   "id": "8f8f6508-1eb6-4cc3-b24a-77b4e03a17a6",
   "metadata": {},
   "outputs": [
    {
     "data": {
      "text/plain": [
       "District Area\n",
       "Highland              40\n",
       "Birmingham            35\n",
       "Leeds                 32\n",
       "Bradford              31\n",
       "Aberdeenshire         27\n",
       "                      ..\n",
       "Clackmannanshire       0\n",
       "Tamworth               0\n",
       "Worthing               0\n",
       "Berwick-upon-Tweed     0\n",
       "Blyth Valley           0\n",
       "Name: count, Length: 422, dtype: int64"
      ]
     },
     "execution_count": 72,
     "metadata": {},
     "output_type": "execute_result"
    }
   ],
   "source": [
    "frt['District Area'].value_counts()"
   ]
  },
  {
   "cell_type": "markdown",
   "id": "d8505b7f-0740-4953-820e-fab2c711312d",
   "metadata": {},
   "source": [
    "<h2>Insight no.10</h2>\n",
    "<h3> The District Area of Highland has the largest number of Fatal accidents in Wet or Damp Road Surface Conditions, with 40 accidents.</h3>"
   ]
  },
  {
   "cell_type": "markdown",
   "id": "f0f8569e-3d5c-47d0-9244-08df465e2955",
   "metadata": {},
   "source": [
    "<h1>11. Which year has the most Slight Accidents in the District Area of Highland with Dry Road Surface Conditions?</h1>\n",
    "<hr>"
   ]
  },
  {
   "cell_type": "code",
   "execution_count": 73,
   "id": "fd3cbe6e-0ecf-439c-8cac-46bb1e2df0b0",
   "metadata": {},
   "outputs": [],
   "source": [
    "frtye=  uk_accdt[(uk_accdt['Accident_Severity'] == 'Slight') & (uk_accdt['Road_Surface_Conditions'] == 'Dry') & (uk_accdt['District Area'] == 'Highland')]"
   ]
  },
  {
   "cell_type": "code",
   "execution_count": 74,
   "id": "a9390444-83ee-4c29-b09f-9a06ed2a6845",
   "metadata": {},
   "outputs": [
    {
     "data": {
      "text/plain": [
       "Accident Date\n",
       "23/08/2019    5\n",
       "04/06/2020    5\n",
       "31/05/2021    4\n",
       "30/07/2021    4\n",
       "26/05/2020    4\n",
       "             ..\n",
       "12/08/2022    0\n",
       "12/09/2022    0\n",
       "12/02/2021    0\n",
       "12/02/2022    0\n",
       "01/01/2019    0\n",
       "Name: count, Length: 1461, dtype: int64"
      ]
     },
     "execution_count": 74,
     "metadata": {},
     "output_type": "execute_result"
    }
   ],
   "source": [
    "frtye['Accident Date'].value_counts()"
   ]
  },
  {
   "cell_type": "markdown",
   "id": "5066301e-d6b4-449c-ab3e-4296e7fd4e13",
   "metadata": {},
   "source": [
    "<h2>Insight no.11</h2>\n",
    "<h3> The year 2019 had the most slight accidents in the District Area of Highland with Dry Road Surface Conditions, with 5 accidents.</h3>"
   ]
  },
  {
   "cell_type": "markdown",
   "id": "2076ce49-c4fa-43a0-923a-d56e5f974ccf",
   "metadata": {},
   "source": [
    "<h1>12. Which year has the most Serious Accidents in the District Area of Kensington and Chelsea with Frost or ice Road Surface Conditions?</h1>\n",
    "<hr>"
   ]
  },
  {
   "cell_type": "code",
   "execution_count": 75,
   "id": "200dd34a-f3e1-4faf-929f-425f07b15d95",
   "metadata": {},
   "outputs": [],
   "source": [
    "srtye=  uk_accdt[(uk_accdt['Accident_Severity'] == 'Serious') & (uk_accdt['Road_Surface_Conditions'] == 'Frost or ice') & (uk_accdt['District Area'] == 'Kensington and Chelsea')]"
   ]
  },
  {
   "cell_type": "code",
   "execution_count": 76,
   "id": "c5ffd1d4-df26-4835-9daf-91bd99577fd9",
   "metadata": {},
   "outputs": [
    {
     "data": {
      "text/plain": [
       "Accident Date\n",
       "05/01/2021    1\n",
       "01/01/2021    0\n",
       "01/01/2022    0\n",
       "01/02/2019    0\n",
       "30/12/2019    0\n",
       "             ..\n",
       "31/03/2022    0\n",
       "31/05/2019    0\n",
       "31/05/2020    0\n",
       "31/05/2021    0\n",
       "01/01/2020    0\n",
       "Name: count, Length: 1461, dtype: int64"
      ]
     },
     "execution_count": 76,
     "metadata": {},
     "output_type": "execute_result"
    }
   ],
   "source": [
    "srtye['Accident Date'].value_counts()"
   ]
  },
  {
   "cell_type": "markdown",
   "id": "72db8060-3609-4e43-b523-bc028ec4e8c8",
   "metadata": {},
   "source": [
    "<h2>Insight no.12</h2>\n",
    "<h3> The year 2021 had the most serious accidents in the District Area of Kensington and Chelsea with Frost or ice Road Surface Conditions, with 1 accidents.</h3>"
   ]
  },
  {
   "cell_type": "markdown",
   "id": "afba36ca-416e-4c35-9c2b-0aef566a82f3",
   "metadata": {},
   "source": [
    "<h1>13. Which Light Conditions has the most Fatal Accidents using the Car type Vehicle?</h1>\n",
    "<hr>"
   ]
  },
  {
   "cell_type": "code",
   "execution_count": 77,
   "id": "fac94958-8365-4d17-a9aa-efa6250a86b2",
   "metadata": {},
   "outputs": [],
   "source": [
    "licar=  uk_accdt[(uk_accdt['Accident_Severity'] == 'Fatal') & (uk_accdt['Vehicle_Type'] == 'Car')]"
   ]
  },
  {
   "cell_type": "code",
   "execution_count": 78,
   "id": "f73e93da-f00e-4cbc-b4f1-976b53624a31",
   "metadata": {},
   "outputs": [
    {
     "data": {
      "text/plain": [
       "Light_Conditions\n",
       "Daylight                       3876\n",
       "Darkness - lights lit          1410\n",
       "Darkness - no lighting         1200\n",
       "Darkness - lighting unknown      56\n",
       "Darkness - lights unlit          35\n",
       "Name: count, dtype: int64"
      ]
     },
     "execution_count": 78,
     "metadata": {},
     "output_type": "execute_result"
    }
   ],
   "source": [
    "licar['Light_Conditions'].value_counts()"
   ]
  },
  {
   "cell_type": "markdown",
   "id": "b3ad29bb-e5d8-4cf1-8527-2c7c34d1020b",
   "metadata": {},
   "source": [
    "<h2>Insight no.13</h2>\n",
    "<h3> The Daylight had the most number of Fatal Accidents with 3876 accidents, using Car type Vehicle?.</h3>"
   ]
  },
  {
   "cell_type": "markdown",
   "id": "f2d9f424-84fe-4f71-9805-dc8b26924479",
   "metadata": {},
   "source": [
    "<h1>14. Which Light Conditions has the most Fatal Accidents using the car-type Vehicle in Urban areas?</h1>\n",
    "<hr>"
   ]
  },
  {
   "cell_type": "code",
   "execution_count": 81,
   "id": "333643c1-e915-4bbe-b19b-e6778c2f9699",
   "metadata": {},
   "outputs": [],
   "source": [
    "liurcar=  uk_accdt[(uk_accdt['Accident_Severity'] == 'Fatal') & (uk_accdt['Vehicle_Type'] == 'Car') & (uk_accdt['Urban_or_Rural_Area'] == 'Urban')]"
   ]
  },
  {
   "cell_type": "code",
   "execution_count": 84,
   "id": "ac1bd1e4-9335-4cc0-a1c2-93300300d498",
   "metadata": {},
   "outputs": [
    {
     "data": {
      "text/plain": [
       "Light_Conditions\n",
       "Daylight                       1284\n",
       "Darkness - lights lit           946\n",
       "Darkness - no lighting           28\n",
       "Darkness - lighting unknown      20\n",
       "Darkness - lights unlit          14\n",
       "Name: count, dtype: int64"
      ]
     },
     "execution_count": 84,
     "metadata": {},
     "output_type": "execute_result"
    }
   ],
   "source": [
    "liurcar['Light_Conditions'].value_counts()"
   ]
  },
  {
   "cell_type": "markdown",
   "id": "43a90821-1bfc-4b75-b99b-bea6ef2f6c16",
   "metadata": {},
   "source": [
    "<h2>Insight no.14</h2>\n",
    "<h3> The Daylight had the largest number of Fatal Accidents with 1284 accidents, using the Car type Vehicle in the Urban Area? </h3>"
   ]
  },
  {
   "cell_type": "markdown",
   "id": "3aefa259-2f06-4d7f-9a35-7374fcada5e3",
   "metadata": {},
   "source": [
    "<h1>15. Which Number of Vehicles has the most Serious Accidents in Darkness light Conditions in the Birmingham District Area?</h1>\n",
    "<hr>"
   ]
  },
  {
   "cell_type": "code",
   "execution_count": 88,
   "id": "cca0622e-8270-4b8f-a664-4a70275c2cc0",
   "metadata": {},
   "outputs": [],
   "source": [
    "dar=  uk_accdt[(uk_accdt['Accident_Severity'] == 'Serious') & (uk_accdt['District Area'] == 'Birmingham') & (uk_accdt['Light_Conditions'] == 'Darkness - no lighting')]"
   ]
  },
  {
   "cell_type": "code",
   "execution_count": 90,
   "id": "6476ffec-ba45-4473-9bce-0dbc895149ff",
   "metadata": {},
   "outputs": [
    {
     "data": {
      "text/plain": [
       "Number_of_Vehicles\n",
       "1    4\n",
       "2    2\n",
       "Name: count, dtype: int64"
      ]
     },
     "execution_count": 90,
     "metadata": {},
     "output_type": "execute_result"
    }
   ],
   "source": [
    "dar['Number_of_Vehicles'].value_counts()"
   ]
  },
  {
   "cell_type": "markdown",
   "id": "774a189c-2637-454c-842f-bcffbd10f441",
   "metadata": {},
   "source": [
    "<h2>Insight no.15</h2>\n",
    "<h3> In the Number of Vehicles, the 1 had the largest number of Serious Accidents in Darkness light Conditions in the Birmingham District Area, with 4 accidents. </h3>"
   ]
  },
  {
   "cell_type": "markdown",
   "id": "0bb0e469-6c82-4ad7-8ef9-ee6bdb6245b5",
   "metadata": {},
   "source": [
    "<h1>16. Which Number of Vehicles has the most Slight Accidents in Daylight Conditions in the Bradford District Area?</h1>\n",
    "<hr>"
   ]
  },
  {
   "cell_type": "code",
   "execution_count": 93,
   "id": "a6febbaf-ba24-47e2-9406-98fb063abc77",
   "metadata": {},
   "outputs": [],
   "source": [
    "darli=  uk_accdt[(uk_accdt['Accident_Severity'] == 'Slight') & (uk_accdt['District Area'] == 'Bradford') & (uk_accdt['Light_Conditions'] == 'Daylight')]"
   ]
  },
  {
   "cell_type": "code",
   "execution_count": 94,
   "id": "c8d8f8ab-7245-41a6-84b5-06812b9b460f",
   "metadata": {},
   "outputs": [
    {
     "data": {
      "text/plain": [
       "Number_of_Vehicles\n",
       "2    2381\n",
       "1    1063\n",
       "3     341\n",
       "4      71\n",
       "5      18\n",
       "6       3\n",
       "7       2\n",
       "8       2\n",
       "Name: count, dtype: int64"
      ]
     },
     "execution_count": 94,
     "metadata": {},
     "output_type": "execute_result"
    }
   ],
   "source": [
    "darli['Number_of_Vehicles'].value_counts()"
   ]
  },
  {
   "cell_type": "markdown",
   "id": "93e1619e-39d4-4bfe-a0cc-21d64f6a4c6e",
   "metadata": {},
   "source": [
    "<h2>Insight no.16</h2>\n",
    "<h3> In the Number of Vehicles, the 2 had the largest number of Serious Accidents in Daylight Conditions in the Bradford District Area, with 2381 accidents. </h3>"
   ]
  },
  {
   "cell_type": "markdown",
   "id": "0a6a4eff-c7c7-4a06-a8f5-4eb15385cdbe",
   "metadata": {},
   "source": [
    "<h1>17. Which Weather Conditions has the most Slight Accidents in Dry Road Surface Conditions, with only 1 Number of Casualties?</h1>\n",
    "<hr>"
   ]
  },
  {
   "cell_type": "code",
   "execution_count": 95,
   "id": "4d47065a-e384-4df3-a661-12732229e24e",
   "metadata": {},
   "outputs": [],
   "source": [
    "waet=  uk_accdt[(uk_accdt['Accident_Severity'] == 'Slight') & (uk_accdt['Number_of_Casualties'] == 1) & (uk_accdt['Road_Surface_Conditions'] == 'Dry')]"
   ]
  },
  {
   "cell_type": "code",
   "execution_count": 96,
   "id": "7276e941-34cb-4ca9-a31f-338e8d2741c7",
   "metadata": {},
   "outputs": [
    {
     "data": {
      "text/plain": [
       "Weather_Conditions\n",
       "Fine no high winds       292933\n",
       "Fine + high winds          3150\n",
       "Other                      1907\n",
       "Raining no high winds       353\n",
       "Fog or mist                 305\n",
       "Raining + high winds         45\n",
       "Snowing no high winds        36\n",
       "Snowing + high winds          2\n",
       "Name: count, dtype: int64"
      ]
     },
     "execution_count": 96,
     "metadata": {},
     "output_type": "execute_result"
    }
   ],
   "source": [
    "waet['Weather_Conditions'].value_counts()"
   ]
  },
  {
   "cell_type": "markdown",
   "id": "05a077b9-2463-4f03-b3bf-5941bc93c56b",
   "metadata": {},
   "source": [
    "<h2>Insight no.17</h2>\n",
    "<h3> The Fine no high winds had the most Slight Accidents in Dry Road Surface Conditions, with only 1 Number of Casualties and had 292933 accidents. </h3>"
   ]
  },
  {
   "cell_type": "markdown",
   "id": "41b62e47-f27e-43db-828e-b58015ebbf1f",
   "metadata": {},
   "source": [
    "<h1>18. Which Weather Conditions has the most Fatal Accidents in Snowy Road Surface Conditions in the District Area of Highland?</h1>\n",
    "<hr>"
   ]
  },
  {
   "cell_type": "code",
   "execution_count": null,
   "id": "598b6df9-2287-47da-8c0c-5376e1cc9efd",
   "metadata": {},
   "outputs": [],
   "source": [
    "hig=  uk_accdt[(uk_accdt['Accident_Severity'] == 'Fatal') & (uk_accdt['Road_Surface_Conditions'] == 'Snow') & (uk_accdt['District Area'] == 'Highland')]"
   ]
  },
  {
   "cell_type": "code",
   "execution_count": 100,
   "id": "37c74f06-316e-4e07-800a-7f075d0f14ac",
   "metadata": {},
   "outputs": [
    {
     "data": {
      "text/plain": [
       "Weather_Conditions\n",
       "Snowing no high winds    1\n",
       "Fine + high winds        0\n",
       "Fog or mist              0\n",
       "Fine no high winds       0\n",
       "Other                    0\n",
       "Raining + high winds     0\n",
       "Raining no high winds    0\n",
       "Snowing + high winds     0\n",
       "Name: count, dtype: int64"
      ]
     },
     "execution_count": 100,
     "metadata": {},
     "output_type": "execute_result"
    }
   ],
   "source": [
    "hig['Weather_Conditions'].value_counts()"
   ]
  },
  {
   "cell_type": "markdown",
   "id": "94781c09-a105-4a6c-bc76-bae47607b0fe",
   "metadata": {},
   "source": [
    "<h2>Insight no.18</h2>\n",
    "<h3> The Snowing no high winds, had the most Fatal Accidents in Snowy Road Surface Conditions, with only 1 accident in the District Area of Highland. </h3>"
   ]
  },
  {
   "cell_type": "markdown",
   "id": "9fbb0441-c522-493b-bab4-c3066790bbfc",
   "metadata": {},
   "source": [
    "<h1>19. Which Road Type has the most Serious Accidents in Rural Area Conditions in Van Type Vehicle?</h1>\n",
    "<hr>"
   ]
  },
  {
   "cell_type": "code",
   "execution_count": 101,
   "id": "ad8a407a-587b-48fc-9c8b-2d640422ffba",
   "metadata": {},
   "outputs": [],
   "source": [
    "van=  uk_accdt[(uk_accdt['Accident_Severity'] == 'Serious') & (uk_accdt['Urban_or_Rural_Area'] == 'Rural') & (uk_accdt['Vehicle_Type'] == 'Van / Goods 3.5 tonnes mgw or under')]"
   ]
  },
  {
   "cell_type": "code",
   "execution_count": 102,
   "id": "18ea5aa5-5524-4e26-aa5c-24b77d5ec926",
   "metadata": {},
   "outputs": [
    {
     "data": {
      "text/plain": [
       "Road_Type\n",
       "Single carriageway    1451\n",
       "Dual carriageway       300\n",
       "Roundabout              81\n",
       "Slip road               10\n",
       "One way street           4\n",
       "Name: count, dtype: int64"
      ]
     },
     "execution_count": 102,
     "metadata": {},
     "output_type": "execute_result"
    }
   ],
   "source": [
    "van['Road_Type'].value_counts()"
   ]
  },
  {
   "cell_type": "markdown",
   "id": "0377bfb7-b19f-4961-aaf0-1ecbe62d21b5",
   "metadata": {},
   "source": [
    "<h2>Insight no.19</h2>\n",
    "<h3> The Single carriageway had the most Serious Accidents in the Rural Area, with only 1451 accident using Van type vehicle. </h3>"
   ]
  },
  {
   "cell_type": "markdown",
   "id": "f909c9cd-eeb8-43fc-83a4-c5bbc94bc1a1",
   "metadata": {},
   "source": [
    "<h1>20. Which Road Type has the most Fatal Accidents in Urban Area Conditions in Van Type Vehicle?</h1>\n",
    "<hr>"
   ]
  },
  {
   "cell_type": "code",
   "execution_count": 104,
   "id": "8f23cecc-2e50-4cdb-b4ef-bf3df248bd51",
   "metadata": {},
   "outputs": [],
   "source": [
    "vanni=  uk_accdt[(uk_accdt['Accident_Severity'] == 'Fatal') & (uk_accdt['Urban_or_Rural_Area'] == 'Urban') & (uk_accdt['Vehicle_Type'] == 'Van / Goods 3.5 tonnes mgw or under')]"
   ]
  },
  {
   "cell_type": "code",
   "execution_count": 105,
   "id": "6bcec099-ed11-4ee1-9c2e-41ba2cd708d6",
   "metadata": {},
   "outputs": [
    {
     "data": {
      "text/plain": [
       "Road_Type\n",
       "Single carriageway    114\n",
       "Dual carriageway       36\n",
       "Roundabout              6\n",
       "One way street          3\n",
       "Slip road               2\n",
       "Name: count, dtype: int64"
      ]
     },
     "execution_count": 105,
     "metadata": {},
     "output_type": "execute_result"
    }
   ],
   "source": [
    "vanni['Road_Type'].value_counts()"
   ]
  },
  {
   "cell_type": "markdown",
   "id": "bc1f42a5-75b6-43ab-a11d-479b0f406a44",
   "metadata": {},
   "source": [
    "<h2>Insight no.20</h2>\n",
    "<h3> The Single carriageway had the most Fatal Accidents in the Urban Area, with only 114 accident using Van type vehicle. </h3>"
   ]
  },
  {
   "cell_type": "code",
   "execution_count": null,
   "id": "c90ced82-789e-47ce-867d-4f13503733a0",
   "metadata": {},
   "outputs": [],
   "source": []
  }
 ],
 "metadata": {
  "kernelspec": {
   "display_name": "Python 3 (ipykernel)",
   "language": "python",
   "name": "python3"
  },
  "language_info": {
   "codemirror_mode": {
    "name": "ipython",
    "version": 3
   },
   "file_extension": ".py",
   "mimetype": "text/x-python",
   "name": "python",
   "nbconvert_exporter": "python",
   "pygments_lexer": "ipython3",
   "version": "3.13.7"
  }
 },
 "nbformat": 4,
 "nbformat_minor": 5
}
